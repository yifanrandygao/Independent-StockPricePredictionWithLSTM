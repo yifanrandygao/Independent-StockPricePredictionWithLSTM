{
 "cells": [
  {
   "cell_type": "markdown",
   "metadata": {},
   "source": [
    "### Predicting Stock Return with LSTM\n",
    "#### Author:  Yifan Gao"
   ]
  },
  {
   "cell_type": "markdown",
   "metadata": {},
   "source": [
    "## 1. Load Data"
   ]
  },
  {
   "cell_type": "code",
   "execution_count": 1,
   "metadata": {
    "scrolled": false
   },
   "outputs": [
    {
     "name": "stderr",
     "output_type": "stream",
     "text": [
      "\n",
      "Bad key \"text.kerning_factor\" on line 4 in\n",
      "C:\\Users\\mars_\\Anaconda3\\lib\\site-packages\\matplotlib\\mpl-data\\stylelib\\_classic_test_patch.mplstyle.\n",
      "You probably need to get an updated matplotlibrc file from\n",
      "http://github.com/matplotlib/matplotlib/blob/master/matplotlibrc.template\n",
      "or from the matplotlib source distribution\n"
     ]
    }
   ],
   "source": [
    "import pandas as pd\n",
    "import pandas_datareader.data as web\n",
    "import requests\n",
    "import numpy as np\n",
    "import warnings\n",
    "import matplotlib.pyplot as plt\n",
    "import datetime as dt\n",
    "from sklearn.preprocessing import MinMaxScaler\n",
    "from tensorflow.keras.models import Sequential\n",
    "from tensorflow.keras.layers import Dense, Dropout, LSTM\n",
    "warnings.filterwarnings(\"ignore\")\n",
    "\n",
    "# Feel free to replace with your own stock\n",
    "ticker = 'FB'\n",
    "\n",
    "train_start = dt.datetime(2012,1,1)\n",
    "train_end = dt.datetime(2019,12,31)\n",
    "test_start = dt.datetime(2020,1,1)\n",
    "test_end = dt.datetime.now()\n",
    "\n",
    "# Yahoo Finance restricts access to their API so doing some tricks to bypass this\n",
    "USER_AGENT = {\n",
    "    'User-Agent': ('Mozilla/5.0 (Windows NT 10.0; Win64; x64) AppleWebKit/537.36 (KHTML, like Gecko)'\n",
    "                   ' Chrome/91.0.4472.124 Safari/537.36')\n",
    "    }\n",
    "sesh = requests.Session()\n",
    "sesh.headers.update(USER_AGENT)\n",
    "\n",
    "df = web.DataReader(ticker, 'yahoo', train_start, train_end, session=sesh)\n",
    "df_test = web.DataReader(ticker, 'yahoo', test_start, test_end, session=sesh)\n",
    "combined_df = pd.concat((df['Adj Close'], df_test['Adj Close']), axis = 0)\n",
    "\n",
    "scaler = MinMaxScaler()\n",
    "df_scaled = scaler.fit_transform(df['Adj Close'].values.reshape(-1,1))"
   ]
  },
  {
   "cell_type": "markdown",
   "metadata": {},
   "source": [
    "## 2. Train the data with LSTM model"
   ]
  },
  {
   "cell_type": "code",
   "execution_count": 2,
   "metadata": {},
   "outputs": [],
   "source": [
    "lookback_days = 60\n",
    "X_train = []\n",
    "y_train = []\n",
    "\n",
    "for i in range(lookback_days, len(df_scaled)):\n",
    "    X_train.append(df_scaled[i-lookback_days:i])\n",
    "    y_train.append(df_scaled[i])\n",
    "    \n",
    "X_train, y_train = np.array(X_train), np.array(y_train)\n",
    "# X_train = np.reshape(X_train, (X_train.shape[0], X_train.shape[1], 1))"
   ]
  },
  {
   "cell_type": "code",
   "execution_count": 3,
   "metadata": {},
   "outputs": [
    {
     "name": "stdout",
     "output_type": "stream",
     "text": [
      "Epoch 1/25\n",
      "59/59 [==============================] - 2s 29ms/step - loss: 0.0198\n",
      "Epoch 2/25\n",
      "59/59 [==============================] - 2s 29ms/step - loss: 0.0041\n",
      "Epoch 3/25\n",
      "59/59 [==============================] - 2s 29ms/step - loss: 0.0040\n",
      "Epoch 4/25\n",
      "59/59 [==============================] - 2s 29ms/step - loss: 0.0036\n",
      "Epoch 5/25\n",
      "59/59 [==============================] - 2s 29ms/step - loss: 0.0039\n",
      "Epoch 6/25\n",
      "59/59 [==============================] - 2s 30ms/step - loss: 0.0034\n",
      "Epoch 7/25\n",
      "59/59 [==============================] - 2s 30ms/step - loss: 0.0027\n",
      "Epoch 8/25\n",
      "59/59 [==============================] - 2s 30ms/step - loss: 0.0028\n",
      "Epoch 9/25\n",
      "59/59 [==============================] - 2s 31ms/step - loss: 0.0031\n",
      "Epoch 10/25\n",
      "59/59 [==============================] - 2s 30ms/step - loss: 0.0025\n",
      "Epoch 11/25\n",
      "59/59 [==============================] - 2s 31ms/step - loss: 0.0028\n",
      "Epoch 12/25\n",
      "59/59 [==============================] - 2s 31ms/step - loss: 0.0025\n",
      "Epoch 13/25\n",
      "59/59 [==============================] - 2s 31ms/step - loss: 0.0025\n",
      "Epoch 14/25\n",
      "59/59 [==============================] - 2s 31ms/step - loss: 0.0028\n",
      "Epoch 15/25\n",
      "59/59 [==============================] - 2s 31ms/step - loss: 0.0031\n",
      "Epoch 16/25\n",
      "59/59 [==============================] - 2s 31ms/step - loss: 0.0028\n",
      "Epoch 17/25\n",
      "59/59 [==============================] - 2s 31ms/step - loss: 0.0026\n",
      "Epoch 18/25\n",
      "59/59 [==============================] - 2s 31ms/step - loss: 0.0025\n",
      "Epoch 19/25\n",
      "59/59 [==============================] - 2s 31ms/step - loss: 0.0023\n",
      "Epoch 20/25\n",
      "59/59 [==============================] - 2s 31ms/step - loss: 0.0023\n",
      "Epoch 21/25\n",
      "59/59 [==============================] - 2s 32ms/step - loss: 0.0021\n",
      "Epoch 22/25\n",
      "59/59 [==============================] - 2s 31ms/step - loss: 0.0026\n",
      "Epoch 23/25\n",
      "59/59 [==============================] - 2s 31ms/step - loss: 0.0021\n",
      "Epoch 24/25\n",
      "59/59 [==============================] - 2s 31ms/step - loss: 0.0023\n",
      "Epoch 25/25\n",
      "59/59 [==============================] - 2s 31ms/step - loss: 0.0020\n"
     ]
    },
    {
     "data": {
      "text/plain": [
       "<tensorflow.python.keras.callbacks.History at 0x1bb3f807ec8>"
      ]
     },
     "execution_count": 3,
     "metadata": {},
     "output_type": "execute_result"
    }
   ],
   "source": [
    "lstm = Sequential()\n",
    "lstm.add(LSTM(units=50, return_sequences=True, input_shape=(X_train.shape[1], 1)))\n",
    "lstm.add(Dropout(0.2))\n",
    "lstm.add(LSTM(units=50, return_sequences=True))\n",
    "lstm.add(Dropout(0.2))\n",
    "lstm.add(LSTM(units=50))\n",
    "lstm.add(Dropout(0.2))\n",
    "lstm.add(Dense(units=1))\n",
    "\n",
    "lstm.compile(optimizer='adam', loss='mean_squared_error')\n",
    "lstm.fit(X_train, y_train, epochs=25, batch_size=32)"
   ]
  },
  {
   "cell_type": "markdown",
   "metadata": {},
   "source": [
    "## 3. Predict stock price for the test period"
   ]
  },
  {
   "cell_type": "code",
   "execution_count": 4,
   "metadata": {},
   "outputs": [],
   "source": [
    "test_inputs = combined_df[len(combined_df) - len(df_test) - lookback_days:].values\n",
    "test_inputs = test_inputs.reshape(-1, 1)\n",
    "test_inputs = scaler.transform(test_inputs)\n",
    "\n",
    "X_test = []\n",
    "for i in range(lookback_days, len(test_inputs)):\n",
    "    X_test.append(test_inputs[i-lookback_days:i])\n",
    "X_test = np.array(X_test)"
   ]
  },
  {
   "cell_type": "code",
   "execution_count": 5,
   "metadata": {},
   "outputs": [],
   "source": [
    "predict_price = lstm.predict(X_test)\n",
    "predict_price = scaler.inverse_transform(predict_price)\n",
    "real_price = df_test['Adj Close'].values"
   ]
  },
  {
   "cell_type": "code",
   "execution_count": 6,
   "metadata": {},
   "outputs": [
    {
     "data": {
      "image/png": "[encoded data removed]",
      "text/plain": [
       "<Figure size 432x288 with 1 Axes>"
      ]
     },
     "metadata": {
      "needs_background": "light"
     },
     "output_type": "display_data"
    }
   ],
   "source": [
    "# Plot actuaL vs predicted price\n",
    "plt.plot(real_price, color=\"black\", label=f\"Actual {ticker} Price\")\n",
    "plt.plot(predict_price, color=\"red\", label=f\"Predicted {ticker} Price\")\n",
    "plt.title(f\"{ticker} Stock Price\")\n",
    "plt.xlabel(\"Time\")\n",
    "plt.ylabel(f\"{ticker} Stock Price\")\n",
    "plt.legend()\n",
    "plt.show()"
   ]
  },
  {
   "cell_type": "markdown",
   "metadata": {},
   "source": [
    "## 4. Predict next day stock price"
   ]
  },
  {
   "cell_type": "code",
   "execution_count": 7,
   "metadata": {},
   "outputs": [],
   "source": [
    "# Predict next day price\n",
    "nextday_df = [test_inputs[len(test_inputs) + 1 - lookback_days:len(test_inputs + 1)]]\n",
    "nextday_df = np.array(nextday_df)\n",
    "nextday_df = np.reshape(nextday_df, (nextday_df.shape[0], nextday_df.shape[1], 1))"
   ]
  },
  {
   "cell_type": "code",
   "execution_count": 8,
   "metadata": {},
   "outputs": [
    {
     "name": "stdout",
     "output_type": "stream",
     "text": [
      "WARNING:tensorflow:Model was constructed with shape (None, 60, 1) for input Tensor(\"lstm_input:0\", shape=(None, 60, 1), dtype=float32), but it was called on an input with incompatible shape (None, 59, 1).\n",
      "The predicted price on next day for FB is 327.52606201171875.\n"
     ]
    }
   ],
   "source": [
    "nextday_price = lstm.predict(nextday_df)\n",
    "nextday_price = scaler.inverse_transform(nextday_price)\n",
    "print(f\"The predicted price on next day for {ticker} is {nextday_price[0][0]}.\")"
   ]
  }
 ],
 "metadata": {
  "anaconda-cloud": {},
  "kernelspec": {
   "display_name": "Python 3",
   "language": "python",
   "name": "python3"
  },
  "language_info": {
   "codemirror_mode": {
    "name": "ipython",
    "version": 3
   },
   "file_extension": ".py",
   "mimetype": "text/x-python",
   "name": "python",
   "nbconvert_exporter": "python",
   "pygments_lexer": "ipython3",
   "version": "3.7.4"
  }
 },
 "nbformat": 4,
 "nbformat_minor": 1
}
